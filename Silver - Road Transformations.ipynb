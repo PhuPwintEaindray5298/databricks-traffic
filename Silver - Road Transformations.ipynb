{
 "cells": [
  {
   "cell_type": "code",
   "execution_count": 0,
   "metadata": {
    "application/vnd.databricks.v1+cell": {
     "cellMetadata": {
      "byteLimit": 2048000,
      "rowLimit": 10000
     },
     "inputWidgets": {},
     "nuid": "dd878366-d758-41ad-bea7-502291e6cc61",
     "showTitle": false,
     "tableResultSettingsMap": {},
     "title": ""
    }
   },
   "outputs": [],
   "source": [
    "checkpoints = spark.sql(\"\"\"DESCRIBE EXTERNAL LOCATION `checkpoints`\"\"\").select('url').collect()[0][0]\n",
    "bronze = spark.sql(\"\"\"DESCRIBE EXTERNAL LOCATION `bronze`\"\"\").select('url').collect()[0][0]\n",
    "silver = spark.sql(\"\"\"DESCRIBE EXTERNAL LOCATION `silver`\"\"\").select('url').collect()[0][0]"
   ]
  },
  {
   "cell_type": "code",
   "execution_count": 0,
   "metadata": {
    "application/vnd.databricks.v1+cell": {
     "cellMetadata": {
      "byteLimit": 2048000,
      "rowLimit": 10000
     },
     "inputWidgets": {},
     "nuid": "5af2e440-09c2-4e85-bed0-63c86f20073f",
     "showTitle": false,
     "tableResultSettingsMap": {},
     "title": ""
    }
   },
   "outputs": [],
   "source": [
    "print(checkpoints)"
   ]
  },
  {
   "cell_type": "code",
   "execution_count": 0,
   "metadata": {
    "application/vnd.databricks.v1+cell": {
     "cellMetadata": {
      "byteLimit": 2048000,
      "rowLimit": 10000
     },
     "inputWidgets": {},
     "nuid": "8bd10968-e19a-41f4-ba6e-742ac68f6ab5",
     "showTitle": false,
     "tableResultSettingsMap": {},
     "title": ""
    }
   },
   "outputs": [],
   "source": [
    "df_silverRoads = spark.readStream.table(\"`dev_catalog`.`bronze`.`raw_roads`\")"
   ]
  },
  {
   "cell_type": "code",
   "execution_count": 0,
   "metadata": {
    "application/vnd.databricks.v1+cell": {
     "cellMetadata": {
      "byteLimit": 2048000,
      "rowLimit": 10000
     },
     "inputWidgets": {},
     "nuid": "03588765-039a-4e8b-a711-28c7a6f0e9d7",
     "showTitle": false,
     "tableResultSettingsMap": {},
     "title": ""
    }
   },
   "outputs": [],
   "source": [
    "def removeDuplicate(df):\n",
    "    print('Remove duplication values: ',end='')\n",
    "    df.dropDuplicates()\n",
    "    print('Success!')\n",
    "    return df"
   ]
  },
  {
   "cell_type": "code",
   "execution_count": 0,
   "metadata": {
    "application/vnd.databricks.v1+cell": {
     "cellMetadata": {
      "byteLimit": 2048000,
      "rowLimit": 10000
     },
     "inputWidgets": {},
     "nuid": "e8a1ae31-2a67-49f3-858b-f14fcb113b0f",
     "showTitle": false,
     "tableResultSettingsMap": {},
     "title": ""
    }
   },
   "outputs": [],
   "source": [
    "def handle_NULLs(df,columns):\n",
    "    print('Handling NULL values on String cloumns with \"unknown\" ',end='')\n",
    "    df_string = df.fillna('Unknown',subset=columns)\n",
    "    print('Success!')\n",
    "\n",
    "    print('Handling NULL values on String cloumns with \"0\" ',end='')\n",
    "    df_clean = df_string.fillna(0,subset=columns)\n",
    "    print('Success')\n",
    "\n",
    "    return df_clean"
   ]
  },
  {
   "cell_type": "code",
   "execution_count": 0,
   "metadata": {
    "application/vnd.databricks.v1+cell": {
     "cellMetadata": {
      "byteLimit": 2048000,
      "rowLimit": 10000
     },
     "inputWidgets": {},
     "nuid": "e93d8a43-16cb-4f9c-a211-a326ef306214",
     "showTitle": false,
     "tableResultSettingsMap": {},
     "title": ""
    }
   },
   "outputs": [],
   "source": [
    "df_noDup = removeDuplicate(df_silverRoads)\n",
    "df_clean = handle_NULLs(df_noDup,df_noDup.schema.names)"
   ]
  },
  {
   "cell_type": "markdown",
   "metadata": {
    "application/vnd.databricks.v1+cell": {
     "cellMetadata": {},
     "inputWidgets": {},
     "nuid": "f9551cb8-e17c-4ef9-a380-5f46956bb503",
     "showTitle": false,
     "tableResultSettingsMap": {},
     "title": ""
    }
   },
   "source": [
    "### Creating road_category_name column"
   ]
  },
  {
   "cell_type": "code",
   "execution_count": 0,
   "metadata": {
    "application/vnd.databricks.v1+cell": {
     "cellMetadata": {
      "byteLimit": 2048000,
      "rowLimit": 10000
     },
     "inputWidgets": {},
     "nuid": "06e3631b-e128-4b72-955f-8ca50d51ffd1",
     "showTitle": false,
     "tableResultSettingsMap": {},
     "title": ""
    }
   },
   "outputs": [],
   "source": [
    "from pyspark.sql.functions import when,col\n",
    "def road_Category(df):\n",
    "    print('Creating Road Category name column',end='')\n",
    "    df_roadCat=df.withColumn(\"Road_Category_Name\",\n",
    "                  when(col(\"Road_Category\") == 'TA','Class A Trunk Road')\n",
    "                  .when(col(\"Road_Category\") == 'TM','Class A Trunk Motor')\n",
    "                  .when(col(\"Road_Category\") == 'PA','Class A Principal Road')\n",
    "                  .when(col(\"Road_Category\") == 'PM','Class A Principal Motor')\n",
    "                  .when(col(\"Road_Category\") == 'M','Class B road')\n",
    "                  .otherwise('NA')\n",
    "                  )\n",
    "    print('Success')\n",
    "    return df_roadCat"
   ]
  },
  {
   "cell_type": "code",
   "execution_count": 0,
   "metadata": {
    "application/vnd.databricks.v1+cell": {
     "cellMetadata": {
      "byteLimit": 2048000,
      "rowLimit": 10000
     },
     "inputWidgets": {},
     "nuid": "e3fc2883-5555-4689-984b-2640d5c3fbb8",
     "showTitle": false,
     "tableResultSettingsMap": {},
     "title": ""
    }
   },
   "outputs": [],
   "source": [
    "df_roadCat = road_Category(df_clean)"
   ]
  },
  {
   "cell_type": "code",
   "execution_count": 0,
   "metadata": {
    "application/vnd.databricks.v1+cell": {
     "cellMetadata": {
      "byteLimit": 2048000,
      "rowLimit": 10000
     },
     "inputWidgets": {},
     "nuid": "8b17c784-449d-4e9c-98b7-24493505390f",
     "showTitle": false,
     "tableResultSettingsMap": {},
     "title": ""
    }
   },
   "outputs": [],
   "source": [
    "from pyspark.sql.functions import when,col\n",
    "def road_Type(df):\n",
    "    print('Creating Road Type name column',end='')\n",
    "    df_roadType=df.withColumn(\"Road_Type\",\n",
    "                  when(col(\"Road_Category_Name\").like('%Class A%'),'Major')\n",
    "                  .when(col(\"Road_Category_Name\").like('%Class B%'),'Minor')\n",
    "                  .otherwise('NA')\n",
    "                  )\n",
    "    print('Success')\n",
    "    return df_roadType"
   ]
  },
  {
   "cell_type": "code",
   "execution_count": 0,
   "metadata": {
    "application/vnd.databricks.v1+cell": {
     "cellMetadata": {
      "byteLimit": 2048000,
      "rowLimit": 10000
     },
     "inputWidgets": {},
     "nuid": "2d297247-ab14-46f6-9784-901c8e2cd42d",
     "showTitle": false,
     "tableResultSettingsMap": {},
     "title": ""
    }
   },
   "outputs": [],
   "source": [
    "df_roadType = road_Type(df_roadCat)"
   ]
  },
  {
   "cell_type": "code",
   "execution_count": 0,
   "metadata": {
    "application/vnd.databricks.v1+cell": {
     "cellMetadata": {
      "byteLimit": 2048000,
      "rowLimit": 10000
     },
     "inputWidgets": {},
     "nuid": "14195037-4038-49b5-b278-a0084f36a6dd",
     "showTitle": false,
     "tableResultSettingsMap": {},
     "title": ""
    }
   },
   "outputs": [],
   "source": [
    "df_roadType.writeStream \\\n",
    "    .format(\"delta\") \\\n",
    "    .option(\"checkpointLocation\",'abfss://checkpoints@datalakewarehouse52.dfs.core.windows.net/SilverRoadLoad/Checkpt') \\\n",
    "    .outputMode(\"append\") \\\n",
    "    .trigger(availableNow=True) \\\n",
    "    .toTable(\"`dev_catalog`.`silver`.`silver_road`\")"
   ]
  }
 ],
 "metadata": {
  "application/vnd.databricks.v1+notebook": {
   "computePreferences": null,
   "dashboards": [],
   "environmentMetadata": {
    "base_environment": "",
    "environment_version": "2"
   },
   "inputWidgetPreferences": null,
   "language": "python",
   "notebookMetadata": {
    "mostRecentlyExecutedCommandWithImplicitDF": {
     "commandId": 8574036194824674,
     "dataframes": [
      "_sqldf"
     ]
    },
    "pythonIndentUnit": 4
   },
   "notebookName": "Silver - Road Transformations",
   "widgets": {}
  },
  "language_info": {
   "name": "python"
  }
 },
 "nbformat": 4,
 "nbformat_minor": 0
}
